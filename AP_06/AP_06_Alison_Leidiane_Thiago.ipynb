{
  "nbformat": 4,
  "nbformat_minor": 0,
  "metadata": {
    "colab": {
      "name": "AP_06_Alison_Leidiane_Thiago.ipynb",
      "version": "0.3.2",
      "provenance": [],
      "collapsed_sections": []
    },
    "kernelspec": {
      "name": "python3",
      "display_name": "Python 3"
    }
  },
  "cells": [
    {
      "cell_type": "markdown",
      "metadata": {
        "id": "mLKPZajBKe3L",
        "colab_type": "text"
      },
      "source": [
        "**Instituto de Informática - UFG**\n",
        "\n",
        "Disciplina: Inteligência Artificial\n",
        "\n",
        "Prof. Cedric Luiz de Carvalho\n",
        "\n",
        "\n",
        "Grupo número ( A )\n",
        "\n",
        "---\n",
        "\n",
        "\n",
        "Aluno(a): Alison Pereira Ribeiro \n",
        "\n",
        "---\n",
        "\n",
        "Aluna(o): Leidiane Beatriz Passos Rodrigues\n",
        "\n",
        "---\n",
        "\n",
        "Aluno(a): Thiago de Andrade Corrêa \n",
        "\n",
        "---"
      ]
    },
    {
      "cell_type": "markdown",
      "metadata": {
        "id": "o_bZhd8FMiSa",
        "colab_type": "text"
      },
      "source": [
        "#Especificação do problema : Processamento de Linguagem Natural\n",
        "\n"
      ]
    },
    {
      "cell_type": "markdown",
      "metadata": {
        "id": "YTE0x5IrTiwN",
        "colab_type": "text"
      },
      "source": [
        "Utilizando as técnicas estudadas, desenvolver uma ferramenta que permita a comparação de pequenos textos. Devem ser definidas métricas de comparação que classifique os textos segundo critérios de similaridade.\n",
        "\n",
        "A ferramenta deverá ser aplicada aos Estudos Dirigidos desenvolvidos ao longo do curso. Para cada estudo, construir uma matriz que mostre a similaridade entre os documentos. Depois, definir um documento de referência e traçar um gráfico de similaridade dos demais em relação a ele.\n",
        "\n",
        "\n",
        "**Observação**: O trabalho deve ser feito em grupo, mas a avaliação será feita individualmente. Para isso, o grupo deverá fazer um planejamento/cronograma de trabalho e a contribuição de cada membro deverá ser devidamente identificado.\n"
      ]
    },
    {
      "cell_type": "markdown",
      "metadata": {
        "id": "vn2Ihb9kSG5k",
        "colab_type": "text"
      },
      "source": [
        "#Planejamento de atividades\n",
        "\n",
        "Utilizar a ferramenta  [Trello](https://trello.com )  para organizar o trabalho, distribuindo as tarefas e registrando (EXPLICITAMENTE) as interações entre os membros do grupo.\n",
        "\n",
        "- Eleger um gerente de projeto para organizar as atividades no Trello e coordenar a equipe.\n",
        "- Planejar o que deve ser feito, distribuindo equitativamente as atividades entre os membros do grupo. Estabelecer atividades a serem feitas, prazos para sua entrega e produtos a serem entregues para cada atividade.\n",
        "\n",
        "- O planejamento das atividades deve, necessariamente incluir:\n",
        "  - Cronograma do trabalho a ser realizado.\n",
        "  - Associação das tarefas a serem realizadas a quem deverá realizá-las.\n",
        "  - Cada tarefa deve estar associada a um produto a ser entregue.\n",
        "  - Em todos os dias devem ser atribuídas atividades a todos os membros do grupo.\n",
        "  \n",
        "- **O planejamento deve ser entregue na primeira aula em que o tópico for trabalhado**.\n",
        "\n",
        "O planejamento do trabalho está completo no Trello. \n",
        "Ficou assim:\n",
        "\n",
        "Alison, implementará o modelo que propusermos.\n",
        "Leidiane, ficará com a descrição do modelo.\n",
        "Thiago, ficará com a descrição dos resultados."
      ]
    },
    {
      "cell_type": "markdown",
      "metadata": {
        "id": "F5srD3jVRAG6",
        "colab_type": "text"
      },
      "source": [
        "# Descrição do modelo\n",
        "\n",
        "   O Processamento de Linguagem Natural (PLN) é a subárea da Inteligência Artificial (IA) que estuda a capacidade e as limitações de uma máquina em entender a linguagem dos seres humanos. O objetivo desse trabalho é comparar as respostas dos 3 últimos  estudos dirigidos e analisar a porcentagem de equivalência das respostas.\n",
        "   \n",
        "  Para isso iremos utilizar uma matriz contendo as respostas do último estudo dirigido submetidas pelos alunos da disciplina de Inteligência Artificial,  onde a matriz contém o identificador das questões na coluna, as respostas dos alunos em cada linha e um id na primeira coluna de cada aluno. Essas matriz está organizada da seguinte forma: \n",
        "  - coluna: resposta de cada aluno;\n",
        "  - linhas: pergunta de cada questão.  \n",
        "  \n",
        "O modelo consiste em um esquema de comparação de textos, para isso usaremos a frequência das palavras em ambos os textos para fins comparativos, ou seja, um texto será similar a outro se as palavras mais frequentes são iguais. Isso tirando o StopList, isto é, as palavras que servem com para \"ligar  o texto\", palavras tais como artigos, conjunções, preposições, pontuação, entre outros.\n",
        "   \n",
        "  Para esse trabalho iremos começar com a normalização dos dados, convertendo todas as palavras em letras minuscúlas, aplicando a técnica de tokenização que tem como objetivo separar palavras ou sentenças em unidades, utilizando a tokenização lexical que marca cada palavra como um token no texto, identificando-a mesmo se tiver encostada em alguma pontução. \n",
        "  Ex: Frase de teste.\n",
        "  ['Frase' , 'de' , 'teste']\n",
        "  \n",
        "  Iremos aplicar a remoção de stopwords método que consiste em remover palavras muito frequentes, tais como “a”, “de”, “o”, “da”, “que”, “e”, “do” entre outras, pois na maioria das vezes não são informações relevantes para a construção do modelo. Iremos remover também o numerais pois não agregam valor semantico para o modelo.\n",
        "  Por último aplicaremos o processo de stemização, que consiste em reduzir uma palavra ao seu radical, diminuindo ainda mais o vocabulário e a abstração de significado. \n",
        "  Assim, faremos uma comparação sintática contando a quantidade de palavras iguais nos textos e analisando o percentual que isso equivale ao texto.\n",
        "  \n",
        "  \n",
        "  "
      ]
    },
    {
      "cell_type": "markdown",
      "metadata": {
        "id": "3_V3fdoVScKd",
        "colab_type": "text"
      },
      "source": [
        "#Implementação"
      ]
    },
    {
      "cell_type": "markdown",
      "metadata": {
        "id": "gAzgONHfbmM0",
        "colab_type": "text"
      },
      "source": [
        "**Observação**: Poderão ser utilizados códigos de outros autores, desde que sejam feitos os devidos créditos aos mesmos. Nesse caso, esses códigos devem ser devidamente documentados, pelo grupo, além da documentação fornecida pelos seus autores. Deve ficar muito claro como o código utilizado foi utilizado para resolver o problema em questão."
      ]
    },
    {
      "cell_type": "code",
      "metadata": {
        "id": "WsVnFslkSiIz",
        "colab_type": "code",
        "outputId": "87a3a1a5-aa32-4ab6-9baf-52b5cb799691",
        "colab": {
          "resources": {
            "http://localhost:8080/nbextensions/google.colab/files.js": {
              "data": "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",
              "ok": true,
              "headers": [
                [
                  "content-type",
                  "application/javascript"
                ]
              ],
              "status": 200,
              "status_text": ""
            }
          },
          "base_uri": "https://localhost:8080/",
          "height": 162
        }
      },
      "source": [
        "#Carregando a base dados\n",
        "\n",
        "from google.colab import files\n",
        "uploaded = files.upload()"
      ],
      "execution_count": 0,
      "outputs": [
        {
          "output_type": "display_data",
          "data": {
            "text/html": [
              "\n",
              "     <input type=\"file\" id=\"files-79fe82ce-b657-4298-ae44-4031e346c9e3\" name=\"files[]\" multiple disabled />\n",
              "     <output id=\"result-79fe82ce-b657-4298-ae44-4031e346c9e3\">\n",
              "      Upload widget is only available when the cell has been executed in the\n",
              "      current browser session. Please rerun this cell to enable.\n",
              "      </output>\n",
              "      <script src=\"/nbextensions/google.colab/files.js\"></script> "
            ],
            "text/plain": [
              "<IPython.core.display.HTML object>"
            ]
          },
          "metadata": {
            "tags": []
          }
        },
        {
          "output_type": "stream",
          "text": [
            "Saving PLN - Estudo Dirigido 07 - Lógica Fuzzy-SoRespostas.csv to PLN - Estudo Dirigido 07 - Lógica Fuzzy-SoRespostas.csv\n",
            "Saving PLN - Estudo Dirigido 08 - Algoritmos genéticos-SoRespostas.csv to PLN - Estudo Dirigido 08 - Algoritmos genéticos-SoRespostas.csv\n",
            "Saving PLN - Estudo dirigido 09 - Processamento de Linguagem Natural-SoRespostas.csv to PLN - Estudo dirigido 09 - Processamento de Linguagem Natural-SoRespostas.csv\n"
          ],
          "name": "stdout"
        }
      ]
    },
    {
      "cell_type": "code",
      "metadata": {
        "id": "sC6tEXATSjFo",
        "colab_type": "code",
        "colab": {}
      },
      "source": [
        "import pandas as pd\n",
        "import numpy as np\n",
        "\n",
        "dataset_fuzzy = pd.read_csv('PLN - Estudo Dirigido 07 - Lógica Fuzzy-SoRespostas.csv', sep=';')\n",
        "\n",
        "dataset_ag    = pd.read_csv('PLN - Estudo Dirigido 08 - Algoritmos genéticos-SoRespostas.csv', sep=';')\n",
        "\n",
        "dataset_nlp   = pd.read_csv('PLN - Estudo dirigido 09 - Processamento de Linguagem Natural-SoRespostas.csv', sep=';')"
      ],
      "execution_count": 0,
      "outputs": []
    },
    {
      "cell_type": "code",
      "metadata": {
        "id": "gO4Ey9s4SjP0",
        "colab_type": "code",
        "outputId": "3afae595-89e3-4880-eac0-5a2f2898e7d9",
        "colab": {
          "base_uri": "https://localhost:8080/",
          "height": 598
        }
      },
      "source": [
        "dataset_fuzzy = dataset_fuzzy.drop('Nome', axis=1)\n",
        "dataset_fuzzy.head()"
      ],
      "execution_count": 0,
      "outputs": [
        {
          "output_type": "execute_result",
          "data": {
            "text/html": [
              "<div>\n",
              "<style scoped>\n",
              "    .dataframe tbody tr th:only-of-type {\n",
              "        vertical-align: middle;\n",
              "    }\n",
              "\n",
              "    .dataframe tbody tr th {\n",
              "        vertical-align: top;\n",
              "    }\n",
              "\n",
              "    .dataframe thead th {\n",
              "        text-align: right;\n",
              "    }\n",
              "</style>\n",
              "<table border=\"1\" class=\"dataframe\">\n",
              "  <thead>\n",
              "    <tr style=\"text-align: right;\">\n",
              "      <th></th>\n",
              "      <th>Resposta 1</th>\n",
              "      <th>Resposta 2</th>\n",
              "      <th>Resposta 3</th>\n",
              "      <th>Resposta 4</th>\n",
              "      <th>Resposta 5</th>\n",
              "      <th>Resposta 6</th>\n",
              "      <th>Resposta 7</th>\n",
              "      <th>Resposta 8</th>\n",
              "      <th>Resposta 9</th>\n",
              "      <th>Resposta 10</th>\n",
              "      <th>Resposta 11</th>\n",
              "      <th>Resposta 12</th>\n",
              "      <th>Resposta 13</th>\n",
              "      <th>Resposta 14</th>\n",
              "      <th>Resposta 15</th>\n",
              "      <th>Resposta 16</th>\n",
              "      <th>Resposta 17</th>\n",
              "      <th>Resposta 18</th>\n",
              "      <th>Resposta 19</th>\n",
              "      <th>Resposta 20</th>\n",
              "      <th>Resposta 21</th>\n",
              "      <th>Resposta 22</th>\n",
              "      <th>Resposta 23</th>\n",
              "      <th>Resposta 24</th>\n",
              "    </tr>\n",
              "  </thead>\n",
              "  <tbody>\n",
              "    <tr>\n",
              "      <th>0</th>\n",
              "      <td>Na lógica clássica, que é frequentemente descr...</td>\n",
              "      <td>Na teoria da probabilidade, estamos lidando co...</td>\n",
              "      <td>Relações fuzzy são uma generalização do concei...</td>\n",
              "      <td>Uma variável linguística é um conceito como “a...</td>\n",
              "      <td>A lógica difusa é usada para raciocinar sobre ...</td>\n",
              "      <td>Por outro lado, vamos considerar o conjunto de...</td>\n",
              "      <td>Na lógica fuzzy, uma afirmação pode ser tanto ...</td>\n",
              "      <td>Para representar um conjunto difuso em um comp...</td>\n",
              "      <td>Não é o complemento de A, que contém os elemen...</td>\n",
              "      <td>Um hedge é um qualificador de conjunto difuso,...</td>\n",
              "      <td>Os significados desses modificadores são basta...</td>\n",
              "      <td>A lógica difusa é uma forma de lógica que se a...</td>\n",
              "      <td>A lógica fuzzy não é monotônica, no sentido de...</td>\n",
              "      <td>Se A e B são valores lógicos difusos, então po...</td>\n",
              "      <td>Claramente, não podemos escrever uma tabela de...</td>\n",
              "      <td>É DEFINIDA DA SEGUINTE FORMA: A → B ≡ MAX ((1 ...</td>\n",
              "      <td>Uma dessas definições é conhecida como implica...</td>\n",
              "      <td>Uma regra difusa tem a forma\\n\\nIF A = x then ...</td>\n",
              "      <td>Uma alternativa à implicação de Gödel, chamada...</td>\n",
              "      <td>Para este exemplo simples, assumiremos que a p...</td>\n",
              "      <td>Para usar essa saída difusa, um valor de saída...</td>\n",
              "      <td>A criação do sistema especialista difuso envol...</td>\n",
              "      <td>UM SISTEMA NEURO-FUZZY É UMA REDE NEURAL QUE A...</td>\n",
              "      <td>Normalmente, uma rede neural difusa é uma rede...</td>\n",
              "    </tr>\n",
              "    <tr>\n",
              "      <th>1</th>\n",
              "      <td>NaN</td>\n",
              "      <td>NaN</td>\n",
              "      <td>NaN</td>\n",
              "      <td>NaN</td>\n",
              "      <td>NaN</td>\n",
              "      <td>NaN</td>\n",
              "      <td>NaN</td>\n",
              "      <td>NaN</td>\n",
              "      <td>NaN</td>\n",
              "      <td>NaN</td>\n",
              "      <td>NaN</td>\n",
              "      <td>NaN</td>\n",
              "      <td>NaN</td>\n",
              "      <td>NaN</td>\n",
              "      <td>NaN</td>\n",
              "      <td>NaN</td>\n",
              "      <td>NaN</td>\n",
              "      <td>NaN</td>\n",
              "      <td>NaN</td>\n",
              "      <td>NaN</td>\n",
              "      <td>NaN</td>\n",
              "      <td>NaN</td>\n",
              "      <td>NaN</td>\n",
              "      <td>NaN</td>\n",
              "    </tr>\n",
              "    <tr>\n",
              "      <th>2</th>\n",
              "      <td>Embora a lógica Aristotélica e a lógica empreg...</td>\n",
              "      <td>Sobe o ponto de vista da probabilidade a inter...</td>\n",
              "      <td>O universo do discurso é o conjunto domínio.</td>\n",
              "      <td>Variáveis linguísticas é um conceito que pode ...</td>\n",
              "      <td>Os conjuntos nítidos podem ser definidos pelos...</td>\n",
              "      <td>Um exemplo seria o conjunto nebuloso de pessoa...</td>\n",
              "      <td>Um enunciado em lógica nebulosa pode ser verda...</td>\n",
              "      <td>Representamos conjunto nebuloso no computador ...</td>\n",
              "      <td>A negação é definida como se segue: sendo PA(x...</td>\n",
              "      <td>Um modificador é um qualificador de um conjunt...</td>\n",
              "      <td>Podemos definir modificadores como “razoavelme...</td>\n",
              "      <td>A lógica nebulosa é uma forma de lógica que se...</td>\n",
              "      <td>Significa dizer que se um novo fato nebuloso f...</td>\n",
              "      <td>Sejam A e B valores lógicos nebulosos, então p...</td>\n",
              "      <td>Não é possível construir uma tabela verdade co...</td>\n",
              "      <td>Podemos definir a condicional como sendo: A → ...</td>\n",
              "      <td>A implicação de Gödel pode ser definida como: ...</td>\n",
              "      <td>Regras nebulosas são os equivalentes nebulosos...</td>\n",
              "      <td>É uma alternativa a implicação de Gödel é gera...</td>\n",
              "      <td>Suponha que estamos projetando um simples sist...</td>\n",
              "      <td>A desnebulização é o processo de obter um valo...</td>\n",
              "      <td>Passos para criar um sistema especialista nebu...</td>\n",
              "      <td>É um sistema neuronebuloso que aprende a class...</td>\n",
              "      <td>As camadas típicas de uma rede neural nebulosa...</td>\n",
              "    </tr>\n",
              "    <tr>\n",
              "      <th>3</th>\n",
              "      <td>Na lógica aristotélica, há dois valores verdad...</td>\n",
              "      <td>Por exemplo, se um fator tiver valor de probab...</td>\n",
              "      <td>É uma faixa de valores nebulosos que uma variá...</td>\n",
              "      <td>É um conceito que pode ter um valor em uma fai...</td>\n",
              "      <td>Conjuntos nebulosos contrastam com os conjunto...</td>\n",
              "      <td>Considerando que Bill tem 2,1m de altura, John...</td>\n",
              "      <td>Na lógica nebulosa, uma sentença pode ser verd...</td>\n",
              "      <td>Para representar um conjunto nebuloso em um co...</td>\n",
              "      <td>Dados dois conjuntos nebulosos A e B:\\n\\nNão A...</td>\n",
              "      <td>Um modificador é um qualificador de um conjunt...</td>\n",
              "      <td>Geralmente um modificador é aplicado elevando ...</td>\n",
              "      <td>Lógica nebulosa é uma forma de lógica que se a...</td>\n",
              "      <td>No sentido de que se um novo fato nebuloso for...</td>\n",
              "      <td>Dados dois conjuntos nebulosos A e B:\\n\\nConju...</td>\n",
              "      <td>Pois ela teria um número infinito de entradas.</td>\n",
              "      <td>NaN</td>\n",
              "      <td>A → B ≡ (A ≤ B) ∨ B</td>\n",
              "      <td>A → B ≡ MAX ((1 - A),B)</td>\n",
              "      <td>Permite a um sistema ter valores de entrada de...</td>\n",
              "      <td>NaN</td>\n",
              "      <td>O processo de obter um valor nítido a partir d...</td>\n",
              "      <td>1. Obter informações a partir de um ou mais es...</td>\n",
              "      <td>É uma rede neural que aprende a classificar da...</td>\n",
              "      <td>1 camada de entrada - recebe entradas nítidas\\...</td>\n",
              "    </tr>\n",
              "    <tr>\n",
              "      <th>4</th>\n",
              "      <td>Lógica Aristotelica: é uma lógica bivalente, a...</td>\n",
              "      <td>na probabilidade, dado um valor de probabilida...</td>\n",
              "      <td>é o domínio de um determinado conjunto/universo.</td>\n",
              "      <td>variavel linguistica é um conceito, onde ela p...</td>\n",
              "      <td>Na teoria clássica, os conjuntos são denominad...</td>\n",
              "      <td>Considere os conjuntos:\\n\\n· Conjunto das pess...</td>\n",
              "      <td>verdadeiro, falso, verdadeiro e falso, nem ver...</td>\n",
              "      <td>É representada usando uma lista de pares, onde...</td>\n",
              "      <td>O complemento do conjunto nebuloso a, onde sua...</td>\n",
              "      <td>Um modificador é um termo que modifica o signi...</td>\n",
              "      <td>11 - Normalmente tais operadores são definido...</td>\n",
              "      <td>é uma forma de lógica que se aplica a variáve...</td>\n",
              "      <td>lógica não monotônica no sentido de que se um ...</td>\n",
              "      <td>conjunção entre A e B: MAX( A, B)\\n\\n disjunçã...</td>\n",
              "      <td>Porque ela teria um numero infinito de entradas</td>\n",
              "      <td>é definido de tal forma: A→B ≡ ¬A∨B\\n\\n e cons...</td>\n",
              "      <td>é definida por: A→B ≡ (A≤B)∨B</td>\n",
              "      <td>São regras usadas para sistemas condicionais\\n\\n</td>\n",
              "      <td>é um alternativa para a implicação de Gödel, o...</td>\n",
              "      <td>quando, por exemplo, um sistema de freios de u...</td>\n",
              "      <td>é o processo de produzir um resultado quantif...</td>\n",
              "      <td>Obter informação\\n\\n Definir conjuntos nebulos...</td>\n",
              "      <td>é uma rede neural que aprende a classificar da...</td>\n",
              "      <td>1 -camada de entrada ( recebe valores crisp)\\...</td>\n",
              "    </tr>\n",
              "  </tbody>\n",
              "</table>\n",
              "</div>"
            ],
            "text/plain": [
              "                                          Resposta 1  ...                                        Resposta 24\n",
              "0  Na lógica clássica, que é frequentemente descr...  ...  Normalmente, uma rede neural difusa é uma rede...\n",
              "1                                                NaN  ...                                                NaN\n",
              "2  Embora a lógica Aristotélica e a lógica empreg...  ...  As camadas típicas de uma rede neural nebulosa...\n",
              "3  Na lógica aristotélica, há dois valores verdad...  ...  1 camada de entrada - recebe entradas nítidas\\...\n",
              "4  Lógica Aristotelica: é uma lógica bivalente, a...  ...   1 -camada de entrada ( recebe valores crisp)\\...\n",
              "\n",
              "[5 rows x 24 columns]"
            ]
          },
          "metadata": {
            "tags": []
          },
          "execution_count": 3
        }
      ]
    },
    {
      "cell_type": "code",
      "metadata": {
        "id": "6kYOOOP9IS2I",
        "colab_type": "code",
        "outputId": "098d7bad-52fd-4f53-a7eb-d3e0d8678703",
        "colab": {
          "base_uri": "https://localhost:8080/",
          "height": 598
        }
      },
      "source": [
        "dataset_ag = dataset_ag.drop('Nome', axis=1)\n",
        "dataset_ag.head()"
      ],
      "execution_count": 0,
      "outputs": [
        {
          "output_type": "execute_result",
          "data": {
            "text/html": [
              "<div>\n",
              "<style scoped>\n",
              "    .dataframe tbody tr th:only-of-type {\n",
              "        vertical-align: middle;\n",
              "    }\n",
              "\n",
              "    .dataframe tbody tr th {\n",
              "        vertical-align: top;\n",
              "    }\n",
              "\n",
              "    .dataframe thead th {\n",
              "        text-align: right;\n",
              "    }\n",
              "</style>\n",
              "<table border=\"1\" class=\"dataframe\">\n",
              "  <thead>\n",
              "    <tr style=\"text-align: right;\">\n",
              "      <th></th>\n",
              "      <th>Resposta 1</th>\n",
              "      <th>Resposta 2</th>\n",
              "      <th>Resposta 3</th>\n",
              "      <th>Resposta 4</th>\n",
              "      <th>Resposta 5</th>\n",
              "      <th>Resposta 6</th>\n",
              "      <th>Resposta 7</th>\n",
              "      <th>Resposta 8</th>\n",
              "      <th>Resposta 9</th>\n",
              "      <th>Resposta 10</th>\n",
              "      <th>Resposta 11</th>\n",
              "      <th>Resposta 12</th>\n",
              "      <th>Resposta 13</th>\n",
              "      <th>Resposta 14</th>\n",
              "      <th>Resposta 15</th>\n",
              "      <th>Resposta 16</th>\n",
              "      <th>Resposta 17</th>\n",
              "      <th>Resposta 18</th>\n",
              "      <th>Resposta 19</th>\n",
              "      <th>Resposta 20</th>\n",
              "    </tr>\n",
              "  </thead>\n",
              "  <tbody>\n",
              "    <tr>\n",
              "      <th>0</th>\n",
              "      <td>ALGORITMOS GENÉTICOS SÃO UMA FORMA DE BUSCA LO...</td>\n",
              "      <td>TEMOS VISTO VÁRIAS REPRESENTAÇÕES DIFERENTES Q...</td>\n",
              "      <td>A população consiste de um conjunto de cromoss...</td>\n",
              "      <td>O processo para executar um algoritmo genético...</td>\n",
              "      <td>O crossover é o cruzamento entre cromossomos d...</td>\n",
              "      <td>O crossover de um ponto define apenas um ponto...</td>\n",
              "      <td>A mutação é um operador unário (isto é, é apli...</td>\n",
              "      <td>Normalmente existem duas maneiras em que uma e...</td>\n",
              "      <td>Algoritmos Genéticos parte de uma população in...</td>\n",
              "      <td>Um esquema é uma cadeia de bits que representa...</td>\n",
              "      <td>Tanto a mutação como o crossover podem destrui...</td>\n",
              "      <td>“Esquemas de ordem baixa e curta que são mais ...</td>\n",
              "      <td>A HIPÓTESE DO BLOCO DE CONSTRUÇÃO É UMA CONSEQ...</td>\n",
              "      <td>OS ALGORITMOS GENÉTICOS FUNCIONAM BEM QUANDO U...</td>\n",
              "      <td>EM ALGUNS PROBLEMAS, ALGUNS BLOCOS CONSTRUTIVO...</td>\n",
              "      <td>Algoritmos genéticos confusos foram desenvolvi...</td>\n",
              "      <td>Escolheremos uma representação que represente ...</td>\n",
              "      <td>Um problema com o algoritmo genético que descr...</td>\n",
              "      <td>Em muitos sistemas de algoritmos genéticos, a ...</td>\n",
              "      <td>Há fortes evidências empíricas para sugerir qu...</td>\n",
              "    </tr>\n",
              "    <tr>\n",
              "      <th>1</th>\n",
              "      <td>NaN</td>\n",
              "      <td>NaN</td>\n",
              "      <td>NaN</td>\n",
              "      <td>NaN</td>\n",
              "      <td>NaN</td>\n",
              "      <td>NaN</td>\n",
              "      <td>NaN</td>\n",
              "      <td>NaN</td>\n",
              "      <td>NaN</td>\n",
              "      <td>NaN</td>\n",
              "      <td>NaN</td>\n",
              "      <td>NaN</td>\n",
              "      <td>NaN</td>\n",
              "      <td>NaN</td>\n",
              "      <td>NaN</td>\n",
              "      <td>NaN</td>\n",
              "      <td>NaN</td>\n",
              "      <td>NaN</td>\n",
              "      <td>NaN</td>\n",
              "      <td>NaN</td>\n",
              "    </tr>\n",
              "    <tr>\n",
              "      <th>2</th>\n",
              "      <td>Algoritmos genéticos é uma forma de busca loca...</td>\n",
              "      <td>Existem várias representações diferentes que p...</td>\n",
              "      <td>Uma série de bits é conhecida como cromossomo ...</td>\n",
              "      <td>O processo de um algoritmo genético é independ...</td>\n",
              "      <td>O crossover é o processo de cruzamento de crom...</td>\n",
              "      <td>No crossover de um ponto, um ponto de cruzamen...</td>\n",
              "      <td>O operador de mutação é um operador que foi in...</td>\n",
              "      <td>Normalmente os critérios mais comuns para o en...</td>\n",
              "      <td>Seja f(x) = sin(x). Para encontrar o máximo de...</td>\n",
              "      <td>Um esquema é uma cadeia de bits que representa...</td>\n",
              "      <td>O efeito é que tanto a mutação como o crossove...</td>\n",
              "      <td>O teorema dos esquemas de Holland diz que esqu...</td>\n",
              "      <td>São esquemas curtos de baixa ordem e alta adeq...</td>\n",
              "      <td>Os bits devem ser escolhidos de forma a se agr...</td>\n",
              "      <td>A decepção é um problema enfrentado pelos algo...</td>\n",
              "      <td>Diferente dos algoritmos genéticos padrão os M...</td>\n",
              "      <td>Usando 0 para representar a deserção e 1 para ...</td>\n",
              "      <td>Sem a diversidade algoritmos genéticos não pod...</td>\n",
              "      <td>Os cromossomos podem representar uma possível ...</td>\n",
              "      <td>Em um mundo sem predadores, há menos pressão p...</td>\n",
              "    </tr>\n",
              "    <tr>\n",
              "      <th>3</th>\n",
              "      <td>Algortimos genéticos são uma forma de de busca...</td>\n",
              "      <td>A representação mais simples para algoritmos g...</td>\n",
              "      <td>Cromossomos é a cadeia de bits, e cada bit é c...</td>\n",
              "      <td>1. Gere uma população aleatória de cromossomos...</td>\n",
              "      <td>Crossover é usado em sistemas classificadores....</td>\n",
              "      <td>Crossover de ponto único é a forma mais comume...</td>\n",
              "      <td>É um operador unário que é geralmente aplicado...</td>\n",
              "      <td>Há dois meios pelos quais uma execução de um a...</td>\n",
              "      <td>-</td>\n",
              "      <td>O conceito de esquemas foram criados para ofer...</td>\n",
              "      <td>Mutação e crossovers são capazes de de reduzir...</td>\n",
              "      <td>Que esquemas curtos de baixa ordem, que sejam ...</td>\n",
              "      <td>A hipótese dos blocos de construção é uma cons...</td>\n",
              "      <td>Bits devem ser escolhidos de modo tal que se a...</td>\n",
              "      <td>É um problema enfrentado por algortimos genéri...</td>\n",
              "      <td>Com os MGAs, um cromossomo não precisa ter um ...</td>\n",
              "      <td>Um cromossomo com 67 1s cooperaria a cada roda...</td>\n",
              "      <td>Diversidade é uma medida útil que é frequentem...</td>\n",
              "      <td>Uma representação de um possível solução do pr...</td>\n",
              "      <td>O efeito é a evolução de comportamentos e habi...</td>\n",
              "    </tr>\n",
              "    <tr>\n",
              "      <th>4</th>\n",
              "      <td>Algoritmos genéticos são uma classe particular...</td>\n",
              "      <td>Cadeia de bits, onde a cadeia de bits é conhec...</td>\n",
              "      <td>População: é um conjunto de cromossomos.Cromos...</td>\n",
              "      <td>1.Gera uma população aleatória de cromossomos ...</td>\n",
              "      <td>É uma operação aplicada entre dois cromossomos...</td>\n",
              "      <td>Não possuo tempo para responder esta questão, ...</td>\n",
              "      <td>é um operador unário, que aplica uma probabili...</td>\n",
              "      <td>um limite de gerações, ou quando um score dese...</td>\n",
              "      <td>não sei</td>\n",
              "      <td>são padrões encontrados dentro ed cromossomos</td>\n",
              "      <td>-</td>\n",
              "      <td>A given schema can be said to have survivedcro...</td>\n",
              "      <td>São os cromossomos e genes, que compoem o cpod...</td>\n",
              "      <td>EStou pasasndo mal demais para este questionár...</td>\n",
              "      <td>-</td>\n",
              "      <td>-</td>\n",
              "      <td>-</td>\n",
              "      <td>-</td>\n",
              "      <td>Eles podem representar características/feature...</td>\n",
              "      <td>Serve como uma seleção natural, ao mesmo tempo...</td>\n",
              "    </tr>\n",
              "  </tbody>\n",
              "</table>\n",
              "</div>"
            ],
            "text/plain": [
              "                                          Resposta 1  ...                                        Resposta 20\n",
              "0  ALGORITMOS GENÉTICOS SÃO UMA FORMA DE BUSCA LO...  ...  Há fortes evidências empíricas para sugerir qu...\n",
              "1                                                NaN  ...                                                NaN\n",
              "2  Algoritmos genéticos é uma forma de busca loca...  ...  Em um mundo sem predadores, há menos pressão p...\n",
              "3  Algortimos genéticos são uma forma de de busca...  ...  O efeito é a evolução de comportamentos e habi...\n",
              "4  Algoritmos genéticos são uma classe particular...  ...  Serve como uma seleção natural, ao mesmo tempo...\n",
              "\n",
              "[5 rows x 20 columns]"
            ]
          },
          "metadata": {
            "tags": []
          },
          "execution_count": 4
        }
      ]
    },
    {
      "cell_type": "code",
      "metadata": {
        "id": "z7xdNbdaISzG",
        "colab_type": "code",
        "outputId": "16173ff1-0dd5-46ff-b12d-3cfb6b6f9540",
        "colab": {
          "base_uri": "https://localhost:8080/",
          "height": 751
        }
      },
      "source": [
        "dataset_nlp = dataset_nlp.drop('Nome', axis=1)\n",
        "dataset_nlp.head()"
      ],
      "execution_count": 0,
      "outputs": [
        {
          "output_type": "execute_result",
          "data": {
            "text/html": [
              "<div>\n",
              "<style scoped>\n",
              "    .dataframe tbody tr th:only-of-type {\n",
              "        vertical-align: middle;\n",
              "    }\n",
              "\n",
              "    .dataframe tbody tr th {\n",
              "        vertical-align: top;\n",
              "    }\n",
              "\n",
              "    .dataframe thead th {\n",
              "        text-align: right;\n",
              "    }\n",
              "</style>\n",
              "<table border=\"1\" class=\"dataframe\">\n",
              "  <thead>\n",
              "    <tr style=\"text-align: right;\">\n",
              "      <th></th>\n",
              "      <th>Resposta 1</th>\n",
              "      <th>Resposta 2</th>\n",
              "      <th>Resposta 3</th>\n",
              "      <th>Resposta 4</th>\n",
              "      <th>Resposta 5</th>\n",
              "      <th>Resposta 6</th>\n",
              "      <th>Resposta 7</th>\n",
              "      <th>Resposta 8</th>\n",
              "      <th>Resposta 9</th>\n",
              "      <th>Resposta 10</th>\n",
              "      <th>Resposta 11</th>\n",
              "      <th>Resposta 12</th>\n",
              "      <th>Resposta 13</th>\n",
              "      <th>Resposta 14</th>\n",
              "      <th>Resposta 15</th>\n",
              "      <th>Resposta 16</th>\n",
              "      <th>Resposta 17</th>\n",
              "      <th>Resposta 18</th>\n",
              "      <th>Resposta 19</th>\n",
              "      <th>Resposta 20</th>\n",
              "      <th>Resposta 21</th>\n",
              "      <th>Resposta 22</th>\n",
              "      <th>Resposta 23</th>\n",
              "      <th>Resposta 24</th>\n",
              "      <th>Resposta 25</th>\n",
              "      <th>Resposta 26</th>\n",
              "      <th>Resposta 27</th>\n",
              "      <th>Resposta 28</th>\n",
              "      <th>Resposta 29</th>\n",
              "      <th>Resposta 30</th>\n",
              "      <th>Resposta 31</th>\n",
              "      <th>Resposta 32</th>\n",
              "      <th>Resposta 33</th>\n",
              "      <th>Resposta 34</th>\n",
              "      <th>Resposta 35</th>\n",
              "      <th>Resposta 36</th>\n",
              "      <th>Resposta 37</th>\n",
              "      <th>Resposta 38</th>\n",
              "      <th>Resposta 39</th>\n",
              "      <th>Resposta 40</th>\n",
              "    </tr>\n",
              "  </thead>\n",
              "  <tbody>\n",
              "    <tr>\n",
              "      <th>0</th>\n",
              "      <td>As línguas naturais são as línguas usadas pelo...</td>\n",
              "      <td>Línguas como chinês, finlandês e navajo não tê...</td>\n",
              "      <td>É uma coleção de técnicas usadas para permitir...</td>\n",
              "      <td>A fonologia é o estudo dos sons que compõem as...</td>\n",
              "      <td>Este é o primeiro estágio de análise que é apl...</td>\n",
              "      <td>Esta etapa envolve a aplicação das regras da g...</td>\n",
              "      <td>Isso envolve o exame do significado das palavr...</td>\n",
              "      <td>Esta é a aplicação da compreensão humana às fr...</td>\n",
              "      <td>Os sistemas de processamento de linguagem natu...</td>\n",
              "      <td>A análise morfológica é útil principalmente no...</td>\n",
              "      <td>A análise sintática (parsing) envolve o mapeam...</td>\n",
              "      <td>São regras gramaticais, frequentemente escrita...</td>\n",
              "      <td>Símbolos de terminal. Cada símbolo de terminal...</td>\n",
              "      <td>As regras BNF formam um léxico da linguagem, q...</td>\n",
              "      <td>Uma linguagem regular é aquela que pode ser de...</td>\n",
              "      <td>É livre de contexto porque define a gramática ...</td>\n",
              "      <td>Uma gramática livre de contexto pode ter no má...</td>\n",
              "      <td>Uma gramática recursivamente enumerável pode d...</td>\n",
              "      <td>As árvores de análise podem ser construídas de...</td>\n",
              "      <td>Quando uma árvore de análise é construída de c...</td>\n",
              "      <td>Uma rede de transição é um autômato de estado ...</td>\n",
              "      <td>Uma rede de transição aumentada, ou ATN, é uma...</td>\n",
              "      <td>Para construir uma árvore de análise a partir ...</td>\n",
              "      <td>Para construir uma árvore de análise a partir ...</td>\n",
              "      <td>A semântica é o estudo do significado das pala...</td>\n",
              "      <td>Uma das principais diferenças entre linguagens...</td>\n",
              "      <td>A ambiguidade lexical ocorre quando uma palavr...</td>\n",
              "      <td>A ambiguidade semântica ocorre quando uma sent...</td>\n",
              "      <td>A ambiguidade referencial ocorre quando usamos...</td>\n",
              "      <td>Uma ambigüidade local ocorre quando uma parte ...</td>\n",
              "      <td>O processo pelo qual um sistema de processamen...</td>\n",
              "      <td>Os sistemas de tradução automática foram desen...</td>\n",
              "      <td>O algoritmo de conhecimento é um método comume...</td>\n",
              "      <td>Recuperação de informações envolve a correspon...</td>\n",
              "      <td>A idéia por trás da recuperação da informação ...</td>\n",
              "      <td>O corpus de documentos é claramente muito impo...</td>\n",
              "      <td>O conceito principal usado na recuperação de i...</td>\n",
              "      <td>Stemming é frequentemente aplicado em sistemas...</td>\n",
              "      <td>O sucesso de um sistema de recuperação de info...</td>\n",
              "      <td>Em geral, para a maioria das técnicas de recup...</td>\n",
              "    </tr>\n",
              "    <tr>\n",
              "      <th>1</th>\n",
              "      <td>As linguagens naturais são as linguagens usada...</td>\n",
              "      <td>Pois uma grande parte da pesquisa em processam...</td>\n",
              "      <td>É o processamento capacitado para processar e ...</td>\n",
              "      <td>Fonologia é o estudo dos sons que compõem pala...</td>\n",
              "      <td>Se trata do primeiro estágio da análise que é ...</td>\n",
              "      <td>Sintaxe determina o papel de cada palavra em u...</td>\n",
              "      <td>Semenatica se trata no ato de examinar o signi...</td>\n",
              "      <td>Pragmática é a aplicação de entendimento de ti...</td>\n",
              "      <td>Porque um sistema pode ter conhecimento detalh...</td>\n",
              "      <td>Análise morfológica é o ato de estudar cada um...</td>\n",
              "      <td>A analise sintatica envolve mapear um fragment...</td>\n",
              "      <td>BNF é amplamente usada por cientistas de compu...</td>\n",
              "      <td>Uma gramática especificada em BNF consiste nos...</td>\n",
              "      <td>Léxico de uma linguagem detalha quais palavras...</td>\n",
              "      <td>São aquelas que pode ser descrita ou reconheci...</td>\n",
              "      <td>Uma gramática é livre de contexto por definir ...</td>\n",
              "      <td>São gramáticas que podem ter mais de um simbol...</td>\n",
              "      <td>Uma gramática irrestrita pode definir qualquer...</td>\n",
              "      <td>Ela podem ser construídas em uma forma de baix...</td>\n",
              "      <td>Árvores de derivação são árvores sintáticas co...</td>\n",
              "      <td>Se trata de um automato de estados finitos que...</td>\n",
              "      <td>Redes de transição aumentada tem a capacidade ...</td>\n",
              "      <td>O analisador por diagrama observaria que as pa...</td>\n",
              "      <td>O diagrama consiste em vértices e arestas, ond...</td>\n",
              "      <td>A analise semantica envolve elaborar uma repre...</td>\n",
              "      <td>A ambiguidade é o fato de uma sentença poder s...</td>\n",
              "      <td>Se trata de quando uma palavra tem mais de uma...</td>\n",
              "      <td>A ambiguidade semântica ocorre quando uma sent...</td>\n",
              "      <td>Se trata de quando ocorre expressoes anafórica...</td>\n",
              "      <td>A ambiguidade local ocorre quando parte de uma...</td>\n",
              "      <td>Se trata do processo pelo qual um sistema de p...</td>\n",
              "      <td>A tradução de sentenças inteiras.</td>\n",
              "      <td>Através do algoritmo de relações, que é um mét...</td>\n",
              "      <td>Recuperação da informação envolve combinar o t...</td>\n",
              "      <td>Se trata de uma lista que contenha palavras qu...</td>\n",
              "      <td>Se trata de um documento que se for bem especi...</td>\n",
              "      <td>Se trata de um vetor que contém o produto dos ...</td>\n",
              "      <td>Para evitar o problemas onde são ignorados apa...</td>\n",
              "      <td>Pode-se medir a métricas de precisão e retorno...</td>\n",
              "      <td>Pois quando uma a precisão do sistema aumenta,...</td>\n",
              "    </tr>\n",
              "    <tr>\n",
              "      <th>2</th>\n",
              "      <td>São as linguagens usadas pelos humanos para co...</td>\n",
              "      <td>Pelo motivo de que grande parte da pesquisa em...</td>\n",
              "      <td>É o processamento capacitado para processar e ...</td>\n",
              "      <td>Fonologia é o estudo dos sons que compõem pala...</td>\n",
              "      <td>É o primeiro estágio da análise que é aplicado...</td>\n",
              "      <td>Sintaxe é o que determina o papel de cada pala...</td>\n",
              "      <td>semântica se trata do significado de palavras ...</td>\n",
              "      <td>Pragmática é a aplicação de entendimento de ti...</td>\n",
              "      <td>Porque um sistema pode ter conhecimento detalh...</td>\n",
              "      <td>Análise morfológica é o ato de estudar cada um...</td>\n",
              "      <td>A analise sintática envolve mapear um fragment...</td>\n",
              "      <td>BNF é amplamente usada por cientistas de compu...</td>\n",
              "      <td>SIMBOLOS NÃO TERMINAIS: Que se trata de simbol...</td>\n",
              "      <td>Léxico de uma linguagem detalha quais palavras...</td>\n",
              "      <td>São aquelas que pode ser descrita ou reconheci...</td>\n",
              "      <td>Uma gramática é livre de contexto por definir ...</td>\n",
              "      <td>são gramáticas nao livres de contexto</td>\n",
              "      <td>Uma gramática irrestrita pode definir qualquer...</td>\n",
              "      <td>Ela podem ser construídas em uma forma de baix...</td>\n",
              "      <td>Árvores de derivação são árvores sintáticas co...</td>\n",
              "      <td>Se trata de um automato de estados finitos que...</td>\n",
              "      <td>Redes de transição aumentada tem a capacidade ...</td>\n",
              "      <td>O analisador por diagrama observaria que as pa...</td>\n",
              "      <td>O diagrama consiste em vértices e arestas, ond...</td>\n",
              "      <td>A analise semantica envolve elaborar uma repre...</td>\n",
              "      <td>A ambiguidade é o fato de uma sentença poder s...</td>\n",
              "      <td>Se trata de quando uma palavra tem mais de uma...</td>\n",
              "      <td>A ambiguidade semântica ocorre quando uma sent...</td>\n",
              "      <td>Se trata de quando ocorre expressoes anafórica...</td>\n",
              "      <td>A ambiguidade local ocorre quando parte de uma...</td>\n",
              "      <td>Se trata do processo pelo qual um sistema de p...</td>\n",
              "      <td>A tradução de sentenças inteiras.</td>\n",
              "      <td>Através do algoritmo de relações, que é um mét...</td>\n",
              "      <td>Recuperação da informação envolve combinar o t...</td>\n",
              "      <td>Se trata de uma lista que contenha palavras qu...</td>\n",
              "      <td>Se trata de um documento que se for bem especi...</td>\n",
              "      <td>Se trata de um vetor que contém o produto dos ...</td>\n",
              "      <td>Para evitar o problemas onde são ignorados apa...</td>\n",
              "      <td>Pode-se medir a métricas de precisão e retorno...</td>\n",
              "      <td>Pois quando uma a precisão do sistema aumenta,...</td>\n",
              "    </tr>\n",
              "    <tr>\n",
              "      <th>3</th>\n",
              "      <td>Línguas naturais são as línguas usadas pelos h...</td>\n",
              "      <td>é que as línguas naturais são ambíguas, o que...</td>\n",
              "      <td>O Processamento de Linguagem Natural (PLN) é a...</td>\n",
              "      <td>Fonologia. Isso é necessário apenas se o compu...</td>\n",
              "      <td>Morfologia. Este é o primeiro estágio de análi...</td>\n",
              "      <td>Sintaxe. Esta etapa envolve a aplicação das re...</td>\n",
              "      <td>Semântica. Isso envolve o exame do significado...</td>\n",
              "      <td>Pragmáticos. Esta é a aplicação da compreensão...</td>\n",
              "      <td>Além desses níveis de análise, os sistemas de ...</td>\n",
              "      <td>A análise morfológica é útil principalmente no...</td>\n",
              "      <td>Como vimos, a análise morfológica pode ser usa...</td>\n",
              "      <td>Uma linguagem é definida em parte por sua gram...</td>\n",
              "      <td>1. Símbolos do terminal. Cada símbolo de termi...</td>\n",
              "      <td>Léxico é o conjunto de palavras existente em ...</td>\n",
              "      <td>As gramáticas mais simples são usadas para def...</td>\n",
              "      <td>A gramática que definimos acima usando regras ...</td>\n",
              "      <td>Uma gramática livre de contexto pode ter no má...</td>\n",
              "      <td>A classe final de gramáticas na hierarquia de ...</td>\n",
              "      <td>[arvore]\\n\\nA árvore sintática é uma represent...</td>\n",
              "      <td>Árvores de derivação\\n\\nUma árvore de derivaçã...</td>\n",
              "      <td>Uma rede de transição é um autômato de estado ...</td>\n",
              "      <td>Uma rede de transição aumentada, ou ATN, é uma...</td>\n",
              "      <td>O Analisador sintático também conhecido como p...</td>\n",
              "      <td>Um programa de análise sintática preditiva bas...</td>\n",
              "      <td>Tendo determinado a estrutura sintática de uma...</td>\n",
              "      <td>Uma das principais diferenças entre linguagens...</td>\n",
              "      <td>A ambiguidade lexical ocorre quando uma palavr...</td>\n",
              "      <td>A ambigüidade semântica ocorre quando uma sent...</td>\n",
              "      <td>A ambiguidade referencial ocorre quando usamos...</td>\n",
              "      <td>Uma ambigüidade local ocorre quando uma parte ...</td>\n",
              "      <td>O processo pelo qual um sistema de processamen...</td>\n",
              "      <td>É muito mais difícil traduzir frases inteiras,...</td>\n",
              "      <td>O algoritmo de conhecimento é um método comume...</td>\n",
              "      <td>A recuperação de informações envolve a corresp...</td>\n",
              "      <td>Stop list  contém palavras que devem ser remov...</td>\n",
              "      <td>O corpus de documentos é claramente muito impo...</td>\n",
              "      <td>O conceito principal usado na recuperação de i...</td>\n",
              "      <td>Stemming é frequentemente aplicado em sistemas...</td>\n",
              "      <td>Se um sistema tiver 100% de precisão, isso sig...</td>\n",
              "      <td>Em geral, para a maioria das técnicas de recup...</td>\n",
              "    </tr>\n",
              "    <tr>\n",
              "      <th>4</th>\n",
              "      <td>Linguagens Naturais são as linguagens usadas p...</td>\n",
              "      <td>Pois as diferenças nas Linguagens Naturais são...</td>\n",
              "      <td>É uma coleção de técnicas que permitem aos com...</td>\n",
              "      <td>É o estudo do som que forma palavras e é usado...</td>\n",
              "      <td>Morfologia estuda a maneira em que palavras po...</td>\n",
              "      <td>Sintaxe determina o papel de cada palavra em u...</td>\n",
              "      <td>Semântica é a examinação do sentido das palavr...</td>\n",
              "      <td>É a aplicação do entendimento e raciocínio hum...</td>\n",
              "      <td>ois ainda não existe um sistema que consiga te...</td>\n",
              "      <td>Analise morfológica é útil no PLN para identif...</td>\n",
              "      <td>Parsing envolve mapear um texto linear em uma ...</td>\n",
              "      <td>É uma maneira de descrever regras que formam l...</td>\n",
              "      <td>*\\n\\nSímbolos terminais: Cada palavra ou símbo...</td>\n",
              "      <td>O léxico é um conjunto de regras que formam um...</td>\n",
              "      <td>Uma gramática regular é uma linguagem que pode...</td>\n",
              "      <td>São gramáticas definidas somente em termos de ...</td>\n",
              "      <td>-</td>\n",
              "      <td>Uma gramática recursivamente enumerável pode d...</td>\n",
              "      <td>As árvores sintáticas podem ser construídas em...</td>\n",
              "      <td>Quando uma árvore sintática é construída top-d...</td>\n",
              "      <td>É um automato de estados finitos que é usado p...</td>\n",
              "      <td>É uma versão estendida da rede de transição, p...</td>\n",
              "      <td>-</td>\n",
              "      <td>-</td>\n",
              "      <td>Analise semântica envolve construir uma repres...</td>\n",
              "      <td>É uma sentença que pode ser interpretada de ma...</td>\n",
              "      <td>Ocorre quando uma palavra possui mais de um si...</td>\n",
              "      <td>Ocorre quando uma sentença possui mais de um s...</td>\n",
              "      <td>Ocorre quando se usa uma expressão anafórica o...</td>\n",
              "      <td>Ocorre quando uma parte da sentença é ambígua;...</td>\n",
              "      <td>É o processo no qual um sistema de processamen...</td>\n",
              "      <td>Não é possível traduzir textos usando somente ...</td>\n",
              "      <td>Pode-se usar um conjunto de n-letras, com esta...</td>\n",
              "      <td>É a combinação do texto contido em uma _query_...</td>\n",
              "      <td>Um conjunto de palavras que devem ser removida...</td>\n",
              "      <td>-</td>\n",
              "      <td>Frequência de Temos – Frequência de Documentos...</td>\n",
              "      <td>Se um usuário entra com a query “onde tem elef...</td>\n",
              "      <td>O sucesso de um sistema de recuperação de info...</td>\n",
              "      <td>A única maneira de se obter 100% recordação na...</td>\n",
              "    </tr>\n",
              "  </tbody>\n",
              "</table>\n",
              "</div>"
            ],
            "text/plain": [
              "                                          Resposta 1  ...                                        Resposta 40\n",
              "0  As línguas naturais são as línguas usadas pelo...  ...  Em geral, para a maioria das técnicas de recup...\n",
              "1  As linguagens naturais são as linguagens usada...  ...  Pois quando uma a precisão do sistema aumenta,...\n",
              "2  São as linguagens usadas pelos humanos para co...  ...  Pois quando uma a precisão do sistema aumenta,...\n",
              "3  Línguas naturais são as línguas usadas pelos h...  ...  Em geral, para a maioria das técnicas de recup...\n",
              "4  Linguagens Naturais são as linguagens usadas p...  ...  A única maneira de se obter 100% recordação na...\n",
              "\n",
              "[5 rows x 40 columns]"
            ]
          },
          "metadata": {
            "tags": []
          },
          "execution_count": 5
        }
      ]
    },
    {
      "cell_type": "code",
      "metadata": {
        "id": "y5pUPybe_vl1",
        "colab_type": "code",
        "colab": {}
      },
      "source": [
        "import nltk\n",
        "import numpy as np\n",
        "from nltk.corpus import stopwords\n",
        "from nltk.stem import PorterStemmer\n",
        "from nltk.tokenize import RegexpTokenizer\n",
        "from string import digits"
      ],
      "execution_count": 0,
      "outputs": []
    },
    {
      "cell_type": "code",
      "metadata": {
        "id": "MIsk7ECdBPcF",
        "colab_type": "code",
        "outputId": "dd261538-2a21-412d-9117-49d9a23e1552",
        "colab": {
          "base_uri": "https://localhost:8080/",
          "height": 68
        }
      },
      "source": [
        "import nltk\n",
        "nltk.download('stopwords')"
      ],
      "execution_count": 0,
      "outputs": [
        {
          "output_type": "stream",
          "text": [
            "[nltk_data] Downloading package stopwords to /root/nltk_data...\n",
            "[nltk_data]   Unzipping corpora/stopwords.zip.\n"
          ],
          "name": "stdout"
        },
        {
          "output_type": "execute_result",
          "data": {
            "text/plain": [
              "True"
            ]
          },
          "metadata": {
            "tags": []
          },
          "execution_count": 7
        }
      ]
    },
    {
      "cell_type": "code",
      "metadata": {
        "id": "UV1lCPCRBX91",
        "colab_type": "code",
        "outputId": "ca69b1f5-420a-467a-e8c8-670b237689e0",
        "colab": {
          "base_uri": "https://localhost:8080/",
          "height": 68
        }
      },
      "source": [
        "nltk.download('punkt')"
      ],
      "execution_count": 0,
      "outputs": [
        {
          "output_type": "stream",
          "text": [
            "[nltk_data] Downloading package punkt to /root/nltk_data...\n",
            "[nltk_data]   Unzipping tokenizers/punkt.zip.\n"
          ],
          "name": "stdout"
        },
        {
          "output_type": "execute_result",
          "data": {
            "text/plain": [
              "True"
            ]
          },
          "metadata": {
            "tags": []
          },
          "execution_count": 8
        }
      ]
    },
    {
      "cell_type": "code",
      "metadata": {
        "id": "mnDnl2jUHC8k",
        "colab_type": "code",
        "outputId": "30a920c7-4bbf-4fdd-c2e8-ad029dd57b75",
        "colab": {
          "base_uri": "https://localhost:8080/",
          "height": 68
        }
      },
      "source": [
        "nltk.download('rslp')"
      ],
      "execution_count": 0,
      "outputs": [
        {
          "output_type": "stream",
          "text": [
            "[nltk_data] Downloading package rslp to /root/nltk_data...\n",
            "[nltk_data]   Unzipping stemmers/rslp.zip.\n"
          ],
          "name": "stdout"
        },
        {
          "output_type": "execute_result",
          "data": {
            "text/plain": [
              "True"
            ]
          },
          "metadata": {
            "tags": []
          },
          "execution_count": 9
        }
      ]
    },
    {
      "cell_type": "code",
      "metadata": {
        "id": "ntuG9SMAISwI",
        "colab_type": "code",
        "colab": {}
      },
      "source": [
        "class Preprocessamento:\n",
        "    def __init__(self):\n",
        "        self.dataset = None\n",
        "        \n",
        "    def stopwords(self, dataset):\n",
        "        self.dataset = dataset\n",
        "        \n",
        "        dados = []\n",
        "        \n",
        "        for i in self.dataset.index:\n",
        "            texts = list(self.dataset.loc[i])\n",
        "\n",
        "            if int(texts.count(np.nan)) == 0:\n",
        "                lista = []\n",
        "            \n",
        "            for text in texts:\n",
        "                if int(texts.count(np.nan)) == 0:\n",
        "\n",
        "                    stopwords_pt = set(stopwords.words(\"portuguese\"))\n",
        "\n",
        "                    tokenizer = RegexpTokenizer(\"[\\w']+\")\n",
        "\n",
        "                    token = tokenizer.tokenize(text)\n",
        "\n",
        "                    words = [w.lower() for w in token if not w.lower() in stopwords_pt]\n",
        "\n",
        "                    lista.append(\" \".join(words))\n",
        "                    \n",
        "            \n",
        "            dados.append(lista)\n",
        "\n",
        "        return dados\n",
        "            \n",
        "    def stemming(self, texts):\n",
        "        ps = PorterStemmer()\n",
        "        \n",
        "        dados = []\n",
        "        \n",
        "        for text in texts:\n",
        "            lista = []\n",
        "\n",
        "            for sentence in text:\n",
        "                p = ps.stem(sentence)\n",
        "                lista.append(p)\n",
        "            \n",
        "            dados.append(lista)\n",
        "            \n",
        "        return dados\n",
        "    \n",
        "    def remove_numeros(self, texts):\n",
        "        dados = []\n",
        "        \n",
        "        for text in texts:\n",
        "            lista = []\n",
        "            for sentence in text:\n",
        "                remove_digits = str.maketrans('', '', digits)\n",
        "                res = sentence.translate(remove_digits)\n",
        "                lista.append(res)\n",
        "            dados.append(lista)\n",
        "        \n",
        "        return dados"
      ],
      "execution_count": 0,
      "outputs": []
    },
    {
      "cell_type": "code",
      "metadata": {
        "id": "PJkfeWIVISsp",
        "colab_type": "code",
        "outputId": "631e0093-fc99-4bf0-8412-2f22d14fb7cb",
        "colab": {
          "base_uri": "https://localhost:8080/",
          "height": 445
        }
      },
      "source": [
        "p = Preprocessamento()\n",
        "\n",
        "# Pré-processamento dos dados do dataset de Lógica Fuzzy\n",
        "dados_fuzzy = p.stopwords(dataset_fuzzy)     # Função que remove os stopwords\n",
        "dados_fuzzy = p.stemming(dados_fuzzy)        # Função que reduz ao radical\n",
        "dados_fuzzy = p.remove_numeros(dados_fuzzy)  # Função que remove os números das respostas\n",
        "dados_fuzzy[0]  # Cada posição do vetor corresponde a uma lista de respostas"
      ],
      "execution_count": 0,
      "outputs": [
        {
          "output_type": "execute_result",
          "data": {
            "text/plain": [
              "['lógica clássica frequentemente descrita lógica aristotélica existem dois valores verdade possíveis proposições verdadeiras falsas tais sistemas conhecidos lógicas bivalentes porque envolvem dois valores lógicos lógica empregada raciocínio bayesiano outros modelos probabilísticos bivalente cada fato verdadeiro falso muitas vezes claro dado fato verdadeiro falso probabilidade usada expressar probabilidade determinada proposição torne verdadeira lógica multivalente inicial usada raciocinar sobre princípio incerteza usado física quântica lógica três valores verdadeiro falso indeterminado extensão dessa lógica três valores considerar  representar falso  representar verdadeiro usar números reais   representar graus verdad',\n",
              " 'teoria probabilidade lidando incerteza momento sabemos proposição verdadeira falsa definitivamente verdadeira falsa ambas nenhuma algo intermediário lógica multivalente certos valor verdade proposição apenas vago verdadeiro falso verdadeiro falso',\n",
              " 'relações fuzzy generalização conceito clássico relações admitem noção associação parcial pontos universo discurso',\n",
              " 'variável linguística conceito altura pode ter valor gama valores difusos incluindo alto curto médio variável lingüística altura pode ser definida sobre universo discurso  pés  pés veremos valores alto curto médio definem subconjuntos desse universo discurso',\n",
              " 'lógica difusa usada raciocinar sobre conjuntos difusos conjuntos difusos contrastam conjuntos usados teoria conjuntos tradicionais vezes conhecidos conjuntos nítidos conjunto nítido pode ser definido valores contidos nele valor dentro conjunto nítido exemplo conjunto números naturais conjunto nítido     assim diante números naturais portanto definitivamente membros conjunto números naturais números     pi definitivamente membros conjunto números naturai',\n",
              " 'outro lado vamos considerar conjunto pessoas altas bill metro oitenta altura claro incluído grupo pessoas altas john apenas metro meio altura maioria diria incluído set quanto jane  pés  polegadas altura alguns certamente diriam alta outros diriam conjunto difuso pessoas altas contém bill contém jane contém john cada membro conjunto algum grau membro conjunto algum grau',\n",
              " 'lógica fuzzy afirmação pode ser tanto verdadeira falsa pode ser verdadeira falsa enquanto lógica clássica podemos afirmar axiomas true false lógica fuzzy válidos pode certo ponto ser falso pode certo ponto ser verdadeiro lei meio excluído sustenta lógica difusa',\n",
              " 'representar conjunto difuso computador usamos lista pares cada par representa valor valor associação difuso valor assim escrevemos conjunto fuzzy x ma x xn ma xn',\n",
              " 'complemento contém elementos contidos b intersecção b contém elementos contidos b b união b contém todos elementos todos elementos b',\n",
              " 'hedge qualificador conjunto difuso bastante extremamente pouco desses qualificadores aplicado conjunto difuso pessoas altas produzimos novo conjunto exemplo aplicando hedge pessoas altas produzimos subconjunto pessoas altas chamadas pessoas altas mesma forma podemos produzir novo subconjunto pessoas bem altas pessoas pouco alta',\n",
              " 'significados desses modificadores bastante subjetivos assim significados próprios conjuntos fuzzy entanto comum usar definição matemática sistemática modificadores modo possam ser aplicados logicament',\n",
              " 'lógica difusa forma lógica aplica variáveis difusa',\n",
              " 'lógica fuzzy monotônica sentido novo fato difuso adicionado banco dados fato pode contradizer conclusões derivadas anteriormente banco dado',\n",
              " 'b valores lógicos difusos então podemos definir conectivos lógicos seguinte forma b max b b min b similarmente podemos definir negação seguir ',\n",
              " 'claramente podemos escrever tabela verdade completa conectivo lógico difuso porque número infinito entradas podemos entanto produzir tabela verdade difusa conjunto finito valores entrada exemplo poderíamos considerar conjunto     usado lógica multivalente três valores lógico',\n",
              " 'definida seguinte forma b max  b',\n",
              " 'dessas definições conhecida implicação gödel definida seguinte forma b b b',\n",
              " 'regra difusa forma if x then b y fato ser preciso regra difusa pode ter seguinte forma if op x then b y onde op algum operador matemático portanto podemos ter regras difusas seguintes if temperature  then fan speed fast if height tall then trouser length long if study time short then grades poor',\n",
              " 'alternativa implicação gödel chamada implicação mamdani inferência mamdani freqüentemente usada sistemas difusos inferência mamdani permite sistema receba conjunto valores entrada nítidos conjunto sensores entradas operador humano exemplo aplique conjunto regras difusas valores fim derivar único nítido valor saída recomendação ação inferência mamdani inventada professor ebrahim mamdani década  usada controlar máquina vapor caldeira',\n",
              " 'exemplo simples assumiremos pressão freio medida  pressão  freio totalmente aplicado vamos definir pressão freio tendo três valores lingüísticos alto h médio m baixo l definiremos seguinte forma h     m       l    ',\n",
              " 'usar saída difusa valor saída nítido deve ser determinado partir valores difusos processo obtenção valor nítido partir conjunto variáveis difusas conhecido defuzzificação',\n",
              " 'criação sistema especialista difuso envolverá seguintes etapas  obtenha informações especialistas  defina conjuntos difusos  defina regras difusas usar sistema especialista difuso usaremos seguintes etapas  relacionar observações conjuntos difusos  avalie cada caso todas regras difusas  combine informações regras  defuzzify resultado',\n",
              " 'sistema neuro fuzzy rede neural aprende classificar dados usando regras difusas classificações fuzzy conjuntos fuzzi',\n",
              " 'normalmente rede neural difusa rede feed forward cinco camadas cinco camadas seguintes  camada entrada recebe entradas nítidas primeira camada camada entrada simplesmente passa valores entrada nítidos próxima camada rede  funções participação entrada fuzzy segunda camada contém informações sobre vários conjuntos difusos sendo usados mapear entradas nítidas outras palavras impregna entradas mesma forma redes neurais  regras difusas terceira camada representa regras difusas sistema cada neurônio nessa camada representa única regra difusa  funções participação saída fuzzy quarta camada rede contém neurônios representam funções associação várias saídas possíveis regras difusas nesse caso três saídas possíveis portanto três neurônios quarta camada  camadas saída geram valores nítidos quinta última camada camada combina defuzzifica várias saídas produzir única saída nítida rede resposta determinado conjunto entradas neste caso rede apenas saída final possível ter rede neural difusa produza várias saída']"
            ]
          },
          "metadata": {
            "tags": []
          },
          "execution_count": 11
        }
      ]
    },
    {
      "cell_type": "code",
      "metadata": {
        "id": "xd7IoQITISpu",
        "colab_type": "code",
        "outputId": "496529b8-6258-4b56-f948-04b736685bc5",
        "colab": {
          "base_uri": "https://localhost:8080/",
          "height": 377
        }
      },
      "source": [
        "# Pré-processamento dos dados do dataset de Algoritmos Genéticos\n",
        "dados_ag = p.stopwords(dataset_ag)\n",
        "dados_ag = p.stemming(dados_ag)\n",
        "dados_ag = p.remove_numeros(dados_ag)\n",
        "dados_ag[0]  # Cada posição do vetor corresponde a uma lista de respostas"
      ],
      "execution_count": 0,
      "outputs": [
        {
          "output_type": "execute_result",
          "data": {
            "text/plain": [
              "['algoritmos genéticos forma busca local usa métodos baseados evolução fazer pequenas mudanças população cromossomos tentativa identificar solução ótima',\n",
              " 'visto várias representações diferentes podem ser usadas técnicas evolutivas algoritmos genéticos programação genética usada desenvolver expressões s podem ser usadas programas lisp resolver problemas sistemas classificadores usam cadeia números representam propriedades ambiente símbolos representam respostas propriedades representação simples algoritmos genéticos usada john holland série bits sequência bits conhecida cromossomo cada bit conhecido gene ambos termos emprestados diretamente genética ilustram maneira próxima algoritmos genéticos espelham processos biológico',\n",
              " 'população consiste conjunto cromossomos cada vimos composto genes cromossomo geralmente usado representar indivíduo completo dentro população outras palavras representação completa solução classificação possível combinar cromossomos juntos formar criaturas reflete perto genética real porque cada indivíduo mundo real número cromossomo',\n",
              " 'processo executar algoritmo genético seguinte  gerar população aleatória cromossomos primeira geração  critérios terminação satisfeitos pare caso contrário continue etapa   determine adequação cada cromossomo  aplique crossover mutação cromossomos selecionados geração atual gerar nova população cromossomos próxima geração  volte passo  tamanho população deve ser determinado antecedência normalmente tamanho população permanece constante geração próxima algumas situações pode ser útil ter população mude tamanho tamanho cada cromossomo deve permanecer cruzamento ser aplicado possível executar algoritmos genéticos tamanhos cromossomos variáveis incomum tipicamente cromossomos aptos selecionados cada geração acasalarem cada par cromossomos permitido produzir dois descendentes conjunto resultante cromossomas descendentes substitui geração anterior possível permitir pais particularmente aptos produzam relativamente descendentes permitam certos membros geração sobrevivam próxima geração maior parte deste capítulo vamos supor cada par pais produz dois descendentes descendentes substituam pai',\n",
              " 'crossover cruzamento cromossomos mesma geração operador crossover aplicado dois cromossomos comprimento seguinte forma  selecione ponto cruzamento aleatório  quebre cada cromossomo duas partes dividindo ponto cruzamento  recombine cromossomos quebrados combinando frente costas outro vice versa produzir dois novoscromossomo',\n",
              " 'crossover ponto define apenas ponto divisão cromossomo podendo sexto sétimo gene pegar parte maior cruza outro cromossomo fez processo cruzamento dois pontos dois pontos escolhidos dividem cromossomos duas seções seções externas consideradas unidas transformar cromossomo anel outra forma cruzamento crossover uniforme aqui probabilidade p usada determinar dado bit pai  usado pai  outras palavras filho pode receber quaisquer bits aleatórios cada pai',\n",
              " 'mutação operador unário aplicada apenas argumento único gene geralmente aplicado baixa probabilidade     mutação envolve simplesmente inverter valor bit cromossomo exemplo taxa mutação   pode ser esperado gene cromossomo  genes possa ser revertido',\n",
              " 'normalmente existem duas maneiras execução algoritmo genético finalizada normalmente limite colocado número gerações após corrida considerada concluída alguns problemas execução pode parar determinada solução atingida nível condicionamento alto população atinge determinado valor exemplo algoritmo genético pode ser usado resolver função matemática nesse caso fica claro execução pode parar solução correta atingida pode ser facilmente testada muitos casos algoritmos genéticos usados resolver problemas possuem solução objetiva caso algoritmo pode parar atinge solução outros casos usados propósitos abstratos gerar imagens interessantes nestes casos julgamento humano deve ser usado determinar terminar',\n",
              " 'algoritmos genéticos parte população indivíduos gerados aleatoriamente configurações iniciais problema realiza avaliação cada relação função objetiva seleciona aptos promove manipuladores operadores genéticos cruzamento mutação originando novas gerações indivíduos cada indivíduo população representa possível solução dado problema ag faz buscar solução boa melhor problema analisado através criação população indivíduos cada vez aptos levando otimização função objetiva escolha população inicialização população feita forma simples possível fazendo escolha aleatória independente cada indivíduo população inicial processo heurístico simplesmente escolher n indivíduos dentro espaço busca avaliação função avaliação função objetiva utilizada determinar qualidade indivíduo solução problema forma mensurar quão aptos indivíduos população função avaliação deve refletir objetivos serem alcançados resolução problema derivada diretamente condições impostas problema seleção seleção indivíduos população deve simular mecanismo seleção natural sobrevivência fortes pais aptos geram filhos algoritmo permite alguns indivíduos menos aptos gerem filhos garantindo diversidade indivíduos melhores piores apenas melhores indivíduos reproduzirem população tenderá ser cada vez semelhante ocorrendo evolução elitismo visa preservar melhores cromossomos geração outra alterações garantindo sempre melhor solução encontrada qualquer gerações mantida final processo geralmente usa algoritmos genéticos taxa elitismo  total indivíduos gerados cruzamento cruzamento crossover processo recombinação partes seqüências caracteres pares cromossomos objetivo gerar nova descendência mutação operador responsável introdução manutenção diversidade genética população operador mutação inverte valores bits muda valor dado bit     objetivo tentar regenerar algum indivíduo possa ter sido eliminado forma inesperada determinada população sofra muitas alterações operação processada pequeno percentual pm elementos torno  todos gen',\n",
              " 'esquema cadeia bits representa possível cromossomo usando representar qualquer valor exemplo seguinte esquema  corresponde seguintes quatro cromossomas ',\n",
              " 'tanto mutação crossover podem destruir presença esquema outras palavras mutação crossover capazes reduzir número ocorrências esquema particular população cromossomos capazes aumentar número ocorrências dado esquema',\n",
              " 'esquemas ordem baixa curta apurados aptidão média população aparecerão regularidade exponencialmente crescente gerações subseqüent',\n",
              " 'hipótese bloco construção conseqüência teorema esquema pode ser declarado algoritmos genéticos manipulam esquemas curtos alta ordem encontrar soluções ótimas problemas esquemas aptidão conhecidos blocos construção',\n",
              " 'algoritmos genéticos funcionam bem pequeno grupo genes próximos representam característica contribui adequação cromossomo portanto representação escolhida algoritmos genéticos importante seleção aleatória bits representar recursos específicos solução suficiente bits devem ser escolhidos forma agruparem naturalmente blocos construção algoritmos genéticos projetados manipular',\n",
              " 'alguns problemas alguns blocos construtivos esquemas curtos ordem baixa podem direcionar erroneamente algoritmo levando convergir pontos sub ótimos fenômeno conhecido decepção assim hipótese blocos construtivos fornece explicação definitiva porquê algoritmos genéticos funcionam apenas indicação porquê algoritmos genéticos funcionam certa classe problemas algumas alternativas propostas combater problema decepção primeira assume algum conhecimento priori função objetivo possível codificá la forma apropriada forme blocos construtivos coesos segunda utilização operador inversão selecionam  pontos cromossomo inverte ordem bits pontos selecionados alterando codificação conjunto operação terceira opção utilizar algoritmos genéticos messy diferem algoritmo genético clássico várias maneiras codificação operadores presença cromossomos tamanho distinto fases evolutiva',\n",
              " 'algoritmos genéticos confusos desenvolvidos alternativa algoritmos genéticos padrão algoritmos genéticos confusos mgas cada bit rotulado posição cromossomo precisa conter valor cada posição fato determinada posição cromossomo pode ter valor cada bit cromossomo representado par números primeiro número representa posição dentro cromossomo segundo número valor bit   assim seguinte cromossomo       poderia ser cromossomo quatro posições bit onde posição terceiro bit especificada cromossomo seguir contraste dois valores especificados terceira posição           mgas usam operador mutação algoritmos genéticos padrão vez cruzamento mgas usam operadores emenda corte mgas imunes decepção algoritmos genéticos padrão mostraram convergir soluções ótimas funções extremamente enganosa',\n",
              " 'escolheremos representação represente estratégia dado jogador cromossomo população sistema permitiremos cada jogador determine movimentação determinado turno jogo base resultados três turnos anteriores cada turno jogo pode ter quatro resultados vamos representar cada desses resultados número    recompensa ambos jogadores cooperaram  otário jogador coopera oponente vence  penalidade ambos jogadores desertaram  tentação jogador comete oponente coopera agora usando  representar deserção  representar cooperação matriz tridimensional valores binários pode ser usada representar estratégia existem quatro escolhas possíveis cada turno estratégias baseadas três turnos anteriores matriz precisará ser  x  x   bits incluiremos três bits representam comportamento jogador primeiros três turnos modo cada cromossomo representado  bits vamos colocar três bits representam três primeiras voltas final cromossomo assim cromossomo consiste  s cooperaria cada movimento independentemente comportamento oponente mesma forma  s significaria cromossomo desertou cada turno',\n",
              " 'problema algoritmo genético descrevemos acima jogar dilema prisioneiro populações tendem estagnar vez cromossomo evolui alcança pontuação alta cromossomos diferentes pontuam menos tendem morrer população acabará todos cromossomos jogando mesma estratégia outras palavras população carece diversidade diversidade medida útil frequentemente usada algoritmos genéticos evitar estagnação mutação ajuda evitar máximos locais costuma ser boa ideia incorporar medida diversidade métrica adequação algoritmo genético',\n",
              " 'muitos sistemas algoritmos genéticos adequação cromossomo individual determinada tratamento dados contidos genes representação possível solução problema alguns casos estratégia lidar situações particular',\n",
              " 'fortes evidências empíricas sugerir principais fatores determinantes evolução maioria comportamentos habilidades complexos organismos mundo real existência predadores mundo predadores menos pressão bom desempenho menos necessidade desenvolver comportamentos sofisticados sobreviver princípio aplica evolução artificial evolução duas espécies entrelaça dessa maneira processo conhecido co evolução resultado claro predador precisará tornar rápido desenvolver novas habilidades permitam capturar presas suficientes alguns casos ciclo interrompido espécie morre nova espécie supera co evolução elemento vital processos biológicos evolutivos pode ser aproveitada algoritmos genéticos outros processos envolvem evolução artifici']"
            ]
          },
          "metadata": {
            "tags": []
          },
          "execution_count": 12
        }
      ]
    },
    {
      "cell_type": "code",
      "metadata": {
        "id": "vKkkF2IEB7a_",
        "colab_type": "code",
        "outputId": "955eb16a-3aa7-422c-d020-22da1f208335",
        "colab": {
          "base_uri": "https://localhost:8080/",
          "height": 717
        }
      },
      "source": [
        "# Pré-processamento dos dados do dataset de NLP\n",
        "dados_nlp = p.stopwords(dataset_nlp)\n",
        "dados_nlp = p.stemming(dados_nlp)\n",
        "dados_nlp = p.remove_numeros(dados_nlp)\n",
        "dados_nlp[0]    # Cada posição do vetor corresponde a uma lista de respostas"
      ],
      "execution_count": 0,
      "outputs": [
        {
          "output_type": "execute_result",
          "data": {
            "text/plain": [
              "['línguas naturais línguas usadas humanos comunicação outras funções distintamente diferentes linguagens formais c java prolog principais diferenças línguas naturais ambíguas significa determinada sentença pode ter significado possível alguns casos significado correto pode ser difícil determinar linguagens formais quase sempre projetadas garantir ambigüidade possa ocorrer portanto determinado programa escrito c pode ter apenas interpretação claramente desejável porque caso contrário computador tomar decisão arbitrária sobre interpretação trabalhar',\n",
              " 'línguas chinês finlandês navajo têm quase nada comum inglês embora claro finlandês use alfabeto assim sistema pode trabalhar linguagem humana pode necessariamente lidar qualquer outra linguagem humana',\n",
              " 'coleção técnicas usadas permitir computadores entendam linguagem humana geral preocupados extrair informações gramaticais significados expressões humanas preocupados entender enunciados executar tarefas úteis resultado',\n",
              " 'fonologia estudo sons compõem palavras usado identificar palavras son',\n",
              " 'primeiro estágio análise aplicado palavras vez sido identificadas partir fala inseridas sistema morfologia analisa maneiras quais palavras dividem componentes afeta status gramatical exemplo letra s final palavra pode muitas vezes indicar substantivo plural verbo tempo presente terceira pessoa',\n",
              " 'etapa envolve aplicação regras gramática linguagem sendo usada sintaxe determina papel cada palavra sentença assim permite sistema computador converta sentenças estrutura possa ser facilmente manipulada',\n",
              " 'envolve exame significado palavras frases veremos possível sentença sintaticamente correta significado semanticamente outro lado desejável sistema computador capaz compreender sentenças sintaxe incorreta ainda transmitam informações úteis semanticament',\n",
              " 'aplicação compreensão humana frases discurso determinar significados imediatamente claros partir semântica exemplo alguém disser pode dizer hora maioria pessoas sabe sim resposta adequada pragmática permite sistema computador dê resposta sensata questõ',\n",
              " 'sistemas processamento linguagem natural devem aplicar algum tipo conhecimento mundo maioria sistemas mundo real conhecimento mundial limitado domínio específico exemplo sistema pode ter conhecimento detalhado sobre blocks world ser capaz responder perguntas sobre mundo objetivo final processamento linguagem natural ter sistema conhecimento mundial suficiente envolver humano discussão sobre qualquer assunto objetivo ainda long',\n",
              " 'análise morfológica útil principalmente processamento linguagem natural identificar partes fala substantivos verbos etc identificar quais palavras pertencem juntas inglês ordem palavras tende fornecer dessas informações morfologia línguas latim ordem palavras quase inteiramente superficial morfologia extremamente importante idiomas francês italiano espanhol algum lugar dois extremo',\n",
              " 'análise sintática parsing envolve mapeamento parte linear texto hierarquia representa maneira várias palavras interagem si sintaticament',\n",
              " 'regras gramaticais frequentemente escritas conhecido forma backus naur conhecida forma normal backus ambos nomes abreviados bnf bnf amplamente utilizado cientistas computação definir linguagens formais c java podemos usá lo definir gramática linguagem natur',\n",
              " 'símbolos terminal cada símbolo terminal símbolo palavra aparece próprio idioma inglês exemplo símbolos terminal palavras dicionário gato cachorro assim diante linguagens formais símbolos terminal incluem nomes variáveis x y assim diante propósitos consideraremos símbolos terminal sendo palavras linguagem símbolos terminais símbolos substantivo frase verbal conjunção usados definir palavras frases linguagem símbolo terminal assim chamado porque usado representar símbolos terminal símbolo inicial símbolo inicial usado representar frase completa idioma caso símbolo início simplesmente sentença lógica predicados primeira ordem exemplo símbolo início expressão reescreva regras regras reescrita definem estrutura gramática cada regra reescrita detalha quais símbolos terminais terminais podem ser usados compor cada símbolo termin',\n",
              " 'regras bnf formam léxico linguagem detalha quais palavras disponíveis quais partes discurso',\n",
              " 'linguagem regular pode ser descrita entendida autômato estado finito linguagens simplistas permitem sentenças aaaaabbbbbb',\n",
              " 'livre contexto porque define gramática simplesmente termos quais tipos palavras podem unir especifica modo palavras devem concordar cada',\n",
              " 'gramática livre contexto pode ter máximo apenas símbolo terminal lado direito regras reescrita reescrever regras gramática sensível contexto contraste pode ter símbolo terminal lado direito permite gramática especifique contrato número caso tempo sexo cada regra reconfiguração sensível contexto deve ter menos tantos símbolos lado direito quanto lado esquerdo',\n",
              " 'gramática recursivamente enumerável pode definir qualquer idioma restrições sobre estrutura regras reescrita tais gramáticas interesse cientistas computação grande utilidade estudo processamento linguagem natur',\n",
              " 'árvores análise podem ser construídas baixo cima cima baixo construir árvore análise cima baixo envolve começar sentença determinar quais possíveis reescritas sentença podem ser aplicadas sentença sendo usada analisado',\n",
              " 'árvore análise construída cima baixo conhecida árvore derivação construir árvore análise baixo cima símbolos terminal sentença primeiro substituídos terminais correspondentes exemplo cat substituído substantivo terminais combinados corresponder lados direitos regras reescrita',\n",
              " 'rede transição autômato estado finito usado representar parte gramática analisador rede transição usa várias dessas redes transição representar gramática inteira cada rede representa símbolo terminal gramática assim gramática língua inglesa rede transição frase frase substantiva frase verbal verbo assim diant',\n",
              " 'rede transição aumentada atn versão estendida rede transição atns têm capacidade aplicar testes arcos exemplo garantir acordo número assim atn sentença mostrado figura   arco nó s s condicional número verbo número substantivo assim frase substantiva três cães frase verbal azul atn capaz seguir arco nó s s porque número frase nominal plural corresponde número verbo frase singular idiomas francês verifica sexo necessário',\n",
              " 'construir árvore análise partir gráfico modificamos regra  modo combina duas arestas juntas armazene nova aresta informações sobre duas arestas combinadas formar arestas filhas então análise concluída podemos obter árvore análise diretamente bordas árvore iniciando primeira borda examinando recursivamente bordas secundárias cada nó',\n",
              " 'construir árvore análise partir gráfico modificamos regra  modo combina duas arestas juntas armazene nova aresta informações sobre duas arestas combinadas formar arestas filhas então análise concluída podemos obter árvore análise diretamente bordas árvore iniciando primeira borda examinando recursivamente bordas secundárias cada nó',\n",
              " 'semântica estudo significado palavras análise semântica análise usamos extrair significado enunciados análise semântica envolve construção representação objetos ações sentença descrevendo incluindo detalhes fornecidos adjetivos advérbios preposições assim analisar frase gato preto sentado tapete sistema usaria rede semântica representar objetos relaçõ',\n",
              " 'principais diferenças linguagens naturais linguagens formais c sentença linguagem natural pode ter significado ambigüidade fato sentença pode ser interpretada maneiras diferentes dependendo falando contexto falada vários outros fator',\n",
              " 'ambiguidade lexical ocorre palavra significado possível exemplo morcego pode ser mamífero voador equipamento esportivo conjunto palavras exemplo interessante disso porque pode ser usado verbo substantivo adjetivo advérbio determinação parte fala pretendida pode muitas vezes ser obtida analisador casos apenas análise possível outros casos desambiguação semântica necessária determinar significado intencion',\n",
              " 'ambiguidade semântica ocorre sentença significado possível geralmente resultado ambigüidade sintática',\n",
              " 'ambiguidade referencial ocorre usamos expressões anafóricas pronomes referirmos objetos discutidos anáfora ocorre palavra frase usada referir algo nomeá lo',\n",
              " 'ambigüidade local ocorre parte sentença ambígua entanto toda sentença examinada ambiguidade resolvida exemplo frase rios longos tâmisa frase rios longos ambígua lermos resto sentença tâmisa',\n",
              " 'processo sistema processamento linguagem natural determina significado pretendido enunciado ambíguo conhecido desambiguação desambiguação pode ser feita várias maneiras formas eficazes superar muitas formas ambiguidade usar probabilidade pode ser feito usando probabilidades anteriores probabilidades condicionais probabilidade anterior pode ser usada dizer sistema palavra bat quase sempre significa peça equipamento esportivo probabilidade condicional diria palavra bat usada fã esportes provável caso falado naturalista provável mamífero alado',\n",
              " 'sistemas tradução automática desenvolvidos atualmente melhores resultados podem alcançar inadequados maioria usos maneira podem ser usados combinação tradutor humano máquina capaz fornecer tradução aproximada ser humano então arruma texto resultante assegurando ambiguidades sido tratadas corretamente texto traduzido pareça natural além gramaticalmente correto',\n",
              " 'algoritmo conhecimento método comumente usado identificação linguagem usa n gramas n grama simplesmente coleção n letras existem estatísticas detalhadas indicam probabilidade determinado conjunto letras ocorrer qualquer idioma assim exemplo trigrama ent form provavelmente indicam documento inglês algoritmo conhecimento apresentado texto suficiente geralmente algumas centenas mil palavras suficiente capaz identificar linguagem grau surpreendentemente alto precisão',\n",
              " 'recuperação informações envolve correspondência texto contido consulta documento conjunto outros documentos geralmente tarefa envolve encontrar documentos corpus documentos relevantes consulta usuário',\n",
              " 'idéia trás recuperação informação usuário insere consulta capital sri lanka boa maneira encontrar resposta encontrar documento contenha todas algumas palavras contidas arquivo inquirir fato palavras what is the normalmente removidas consulta usando stop list contém palavras devem ser removidas todas consultas antes processamento sistema recuperação informações localizaria documentos continham palavras capital sri lanka',\n",
              " 'corpus documentos claramente importante discutido ambiguidades texto consulta podem ser evitadas corpus específico sistemas recuperação informação tendem lidar bem ambigüidade porque geralmente recebem nenhum conhecimento mundo simplesmente projetados executar análises estatísticas palavras fim identificar respostas adequadas consulta',\n",
              " 'conceito principal usado recuperação informação conhecido tf idf frequência termo frequência documento inversa geralmente valor tf idf calculado cada conjunto palavras valores resultantes colocados vetor representa documento parte texto consulta freqüência inversa documento idf palavra w calculada seguinte forma idf w log d df w',\n",
              " 'stemming frequentemente aplicado sistemas recuperação informação evitar problema stemming envolve simplesmente remover hastes comuns ing s ed palavras desta forma palavra natação determinada nadar corresponderá nadadores nadadores assim diante normalmente capaz combinar swam swum porque formas irregular',\n",
              " 'sucesso sistema recuperação informação pode ser medido usando duas métricas precisão recuperação sistema  precisão significa diz documento específico relevante então garantido correto precisão menor significa classificará erroneamente alguns documentos sendo relevantes falsos positivo',\n",
              " 'geral maioria técnicas recuperação informação precisão rechamada oposição umas outras significa precisão sistema aumenta acontece custas recall vice versa intuitivo única maneira obter  recordação maioria situações mundo real ficar relaxado sobre quais documentos classificados outras palavras grande quantidade documentos deve ser classificada relevante garantir todos documentos relevantes encontrados inevitavelmente significará alguns documentos irrelevantes encontrado']"
            ]
          },
          "metadata": {
            "tags": []
          },
          "execution_count": 13
        }
      ]
    },
    {
      "cell_type": "markdown",
      "metadata": {
        "id": "JCfT2425i-1m",
        "colab_type": "text"
      },
      "source": [
        "### Método TF-IDF\n",
        "\n",
        "TF é um documento específico. É uma maneira de marcar a importância das palavras (ou \"termos\") em um documento com base na frequência com que aparecem. Se uma palavra aparece com frequência em um documento, é importante, que ela recebe uma pontuação alta."
      ]
    },
    {
      "cell_type": "code",
      "metadata": {
        "id": "1YKU5NAdVEwZ",
        "colab_type": "code",
        "colab": {}
      },
      "source": [
        "from sklearn.feature_extraction.text import TfidfVectorizer"
      ],
      "execution_count": 0,
      "outputs": []
    },
    {
      "cell_type": "markdown",
      "metadata": {
        "id": "B1GSPTJ6jSa7",
        "colab_type": "text"
      },
      "source": [
        "IDF é para toda a coleção. É uma maneira de marcar quantas vezes uma palavra ocorre em vários documentos. Se uma palavra aparece em vários documentos, ela não é um identificador exclusivo, portanto, obtém uma pontuação mais baixa."
      ]
    },
    {
      "cell_type": "code",
      "metadata": {
        "id": "RxnyxbKTi4EX",
        "colab_type": "code",
        "colab": {}
      },
      "source": [
        "def tfidf_vec(dados):\n",
        "    vectorizer = TfidfVectorizer(min_df=1)\n",
        "    v = []\n",
        "    for lista in dados:\n",
        "        tfidf = vectorizer.fit_transform(lista)\n",
        "        v.append((tfidf * tfidf.T).A)\n",
        "    \n",
        "    return v"
      ],
      "execution_count": 0,
      "outputs": []
    },
    {
      "cell_type": "code",
      "metadata": {
        "id": "U8rFqEj8i3_i",
        "colab_type": "code",
        "colab": {}
      },
      "source": [
        "tfidf_fuzzy = tfidf_vec(dados_fuzzy)\n",
        "tfidf_ag    = tfidf_vec(dados_ag)\n",
        "tfidf_nlp   = tfidf_vec(dados_nlp)"
      ],
      "execution_count": 0,
      "outputs": []
    },
    {
      "cell_type": "code",
      "metadata": {
        "id": "EvE2fwUjrU8I",
        "colab_type": "code",
        "colab": {}
      },
      "source": [
        "def cria_conjunto(dados):\n",
        "    v = []\n",
        "    for lista in dados:\n",
        "        l = []\n",
        "        for vec in lista:\n",
        "            for i in vec:\n",
        "                l.append(i)\n",
        "        v.append(l)\n",
        "        \n",
        "    return v"
      ],
      "execution_count": 0,
      "outputs": []
    },
    {
      "cell_type": "code",
      "metadata": {
        "id": "vvCUQlHntr54",
        "colab_type": "code",
        "colab": {}
      },
      "source": [
        "fuzzy = cria_conjunto(tfidf_fuzzy)\n",
        "ag    = cria_conjunto(tfidf_ag)\n",
        "nlp   = cria_conjunto(tfidf_nlp)"
      ],
      "execution_count": 0,
      "outputs": []
    },
    {
      "cell_type": "code",
      "metadata": {
        "id": "5xMTT01mqinc",
        "colab_type": "code",
        "colab": {}
      },
      "source": [
        "def similaridade_fuzzy(fuzzy):\n",
        "    # Como exemplo: verifica a similaridade das repostas do primeiro aluno com os demais\n",
        "    \n",
        "    for i in range(0, len(fuzzy)-1):\n",
        "        similarity = 1 - nltk.cluster.cosine_distance(fuzzy[0], fuzzy[i+1])\n",
        "        \n",
        "        plt.plot(i, similarity, 'ro')\n",
        "          \n",
        "        print(\"Similaridade: {:4.2f} %\".format(similarity*100))\n",
        "        \n",
        "    print(\"\\nMediana: \" + str((100+86.37)/2))\n",
        "    plt.show()"
      ],
      "execution_count": 0,
      "outputs": []
    },
    {
      "cell_type": "code",
      "metadata": {
        "id": "sQ2kxz32upBb",
        "colab_type": "code",
        "outputId": "464de6a2-262c-435a-a57e-5c65858aa61a",
        "colab": {
          "base_uri": "https://localhost:8080/",
          "height": 575
        }
      },
      "source": [
        "similaridade_fuzzy(fuzzy)"
      ],
      "execution_count": 0,
      "outputs": [
        {
          "output_type": "stream",
          "text": [
            "Similaridade: 100.00 %\n",
            "Similaridade: 95.85 %\n",
            "Similaridade: 95.85 %\n",
            "Similaridade: 91.36 %\n",
            "Similaridade: 96.60 %\n",
            "Similaridade: 91.66 %\n",
            "Similaridade: 86.37 %\n",
            "Similaridade: 95.85 %\n",
            "Similaridade: 89.55 %\n",
            "Similaridade: 91.63 %\n",
            "Similaridade: 89.99 %\n",
            "Similaridade: 91.98 %\n",
            "Similaridade: 89.79 %\n",
            "Similaridade: 91.76 %\n",
            "Similaridade: 92.18 %\n",
            "Similaridade: 87.79 %\n",
            "\n",
            "Mediana: 93.185\n"
          ],
          "name": "stdout"
        },
        {
          "output_type": "display_data",
          "data": {
            "image/png": "[encoded data removed]",
            "text/plain": [
              "<Figure size 432x288 with 1 Axes>"
            ]
          },
          "metadata": {
            "tags": []
          }
        }
      ]
    },
    {
      "cell_type": "markdown",
      "metadata": {
        "id": "ulVP_kSHEAHL",
        "colab_type": "text"
      },
      "source": [
        "O gráfico acima associa as questões dos testes valor a valor com as respectivas similaridades entre elas. Podemos ver claramente que há uma tendência para valores entre 90 e 96%, indicando alto grau de semelhança entre as respostas.\n",
        "\n",
        "\n",
        "A mediana foi calculada adicionando o maior e o menor valor e dividindo tudo por dois."
      ]
    },
    {
      "cell_type": "code",
      "metadata": {
        "id": "PabwkT0Vub4t",
        "colab_type": "code",
        "colab": {}
      },
      "source": [
        "def similaridade_ag(ag):\n",
        "    # Como exemplo: verifica a similaridade das repostas do primeiro aluno com os demais\n",
        "    for i in range(0, len(ag)-1):\n",
        "        similarity = 1 - nltk.cluster.cosine_distance(ag[0], ag[i+1])\n",
        "        \n",
        "        plt.plot(i , similarity, 'ro')\n",
        "        \n",
        "        print(\"Similaridade: {:4.2f} %\".format(similarity*100))\n",
        "    print(\"\\nMediana: \" + str((100+85.65)/2))\n",
        "    plt.show()"
      ],
      "execution_count": 0,
      "outputs": []
    },
    {
      "cell_type": "code",
      "metadata": {
        "id": "92zA1wANuxI9",
        "colab_type": "code",
        "outputId": "c08827df-e2ec-49df-ccf6-1dd89154ba31",
        "colab": {
          "base_uri": "https://localhost:8080/",
          "height": 592
        }
      },
      "source": [
        "similaridade_ag(ag)"
      ],
      "execution_count": 0,
      "outputs": [
        {
          "output_type": "stream",
          "text": [
            "Similaridade: 100.00 %\n",
            "Similaridade: 98.12 %\n",
            "Similaridade: 94.69 %\n",
            "Similaridade: 81.64 %\n",
            "Similaridade: 98.49 %\n",
            "Similaridade: 92.62 %\n",
            "Similaridade: 94.47 %\n",
            "Similaridade: 98.11 %\n",
            "Similaridade: 98.11 %\n",
            "Similaridade: 96.54 %\n",
            "Similaridade: 95.60 %\n",
            "Similaridade: 94.45 %\n",
            "Similaridade: 95.62 %\n",
            "Similaridade: 97.42 %\n",
            "Similaridade: 93.92 %\n",
            "Similaridade: 96.74 %\n",
            "Similaridade: 85.65 %\n",
            "\n",
            "Mediana: 92.825\n"
          ],
          "name": "stdout"
        },
        {
          "output_type": "display_data",
          "data": {
            "image/png": "[encoded data removed]",
            "text/plain": [
              "<Figure size 432x288 with 1 Axes>"
            ]
          },
          "metadata": {
            "tags": []
          }
        }
      ]
    },
    {
      "cell_type": "markdown",
      "metadata": {
        "id": "xg9okLr3GnRF",
        "colab_type": "text"
      },
      "source": [
        "Aqui, houve uma maior semelhança em relação às respostas do anterior. A semelhança ficou entre 92 e 100%."
      ]
    },
    {
      "cell_type": "code",
      "metadata": {
        "id": "yq-GiYfCub04",
        "colab_type": "code",
        "colab": {}
      },
      "source": [
        "import matplotlib.pyplot as plt\n",
        "def similaridade_nlp(nlp):\n",
        "    # Como exemplo: verifica a similaridade das repostas do primeiro aluno com os demais\n",
        "    for i in range(0, len(nlp)-1):\n",
        "        similarity = 1 - nltk.cluster.cosine_distance(nlp[0], nlp[i+1])\n",
        "\n",
        "        plt.plot(i, similarity, 'ro')\n",
        "\n",
        "        print(\"Similaridade: {:4.2f} %\".format(similarity*100))\n",
        "\n",
        "    print(\"\\nMediana: \" + str((94.55+69.17)/2))   \n",
        "    plt.show()"
      ],
      "execution_count": 0,
      "outputs": []
    },
    {
      "cell_type": "code",
      "metadata": {
        "id": "ODmfnIxLu-HX",
        "colab_type": "code",
        "outputId": "19cd2853-8e1d-405e-d8aa-5a6f976cedbe",
        "colab": {
          "base_uri": "https://localhost:8080/",
          "height": 473
        }
      },
      "source": [
        "similaridade_nlp(nlp)"
      ],
      "execution_count": 0,
      "outputs": [
        {
          "output_type": "stream",
          "text": [
            "Similaridade: 93.84 %\n",
            "Similaridade: 93.82 %\n",
            "Similaridade: 94.55 %\n",
            "Similaridade: 88.01 %\n",
            "Similaridade: 93.82 %\n",
            "Similaridade: 93.21 %\n",
            "Similaridade: 90.68 %\n",
            "Similaridade: 93.85 %\n",
            "Similaridade: 69.17 %\n",
            "Similaridade: 93.27 %\n",
            "\n",
            "Mediana: 81.86\n"
          ],
          "name": "stdout"
        },
        {
          "output_type": "display_data",
          "data": {
            "image/png": "[encoded data removed]",
            "text/plain": [
              "<Figure size 432x288 with 1 Axes>"
            ]
          },
          "metadata": {
            "tags": []
          }
        }
      ]
    },
    {
      "cell_type": "markdown",
      "metadata": {
        "id": "RFpKQg5KH7lm",
        "colab_type": "text"
      },
      "source": [
        "A variação apresentada nesse foi a maior de todas, houve questões onde a similaridade ficou em 69%; já em outras ficou 95%. A mediana ficou em 81%."
      ]
    },
    {
      "cell_type": "markdown",
      "metadata": {
        "id": "AmnXzoA8UBp4",
        "colab_type": "text"
      },
      "source": [
        "#Avaliação dos resultados\n",
        "\n",
        "- O grupo deve avaliar se o modelo (e os dados utilizados) é adequado para tratar o problema proposto.\n",
        "\n",
        "- Deve ser indicado como  utilizar a solução apresentada para resolver o problema proposto. Isto é, novos alunos devem ser submetidos ao modelo e os resultados apresentados.\n"
      ]
    },
    {
      "cell_type": "markdown",
      "metadata": {
        "id": "C_Dqmj_npMIA",
        "colab_type": "text"
      },
      "source": [
        "O problema proposto envolve a comparação entre diferentes respostas dadas por alunos de graduação na matéria de IA, para perguntas pré-estabelecidas. A fonte de dados era a mesma, ou seja, os alunos tiveram como base o mesmo livro didático.\n",
        "\n",
        "O modelo que propomos busca as semelhanças entre as respostas e indicam esse nível de similaridade. \n",
        "\n",
        "Como vimos nos gráficos acima, as respostas flutuaram no patamar dos 90% de similaridade, uma ou outra questão apresentou variação maior, como no caso de um das respostas do estudo dirigido de NLP. \n",
        "\n",
        "Pelo método de comparação entre sentenças usando os n-gramas, função nativa da biblioteca NTKL que usamos aqui, o nível de similaridade foi calculado e apresentado com rigor. Sendo assim, o modelo soluciona de forma eficaz o problema proposto e poderia ser utilizado para resolver problemas semelhantes com igual escala de forma eficiente.\n",
        "\n",
        "A alta similaridade encontrada pode ser diretamente associada à fonte de dados única para a resolução dos exercícios propostos, ou seja, como as questões eram as mesmas e as respostas eram pontuais no livro, leia-se claras e nítidas, isso pode ter influenciado nessa similaridade encontrada."
      ]
    },
    {
      "cell_type": "code",
      "metadata": {
        "id": "MVY2npJXRbDR",
        "colab_type": "code",
        "colab": {}
      },
      "source": [
        ""
      ],
      "execution_count": 0,
      "outputs": []
    }
  ]
}